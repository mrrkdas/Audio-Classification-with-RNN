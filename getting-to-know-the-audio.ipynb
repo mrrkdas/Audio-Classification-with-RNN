{
 "cells": [
  {
   "cell_type": "code",
   "execution_count": 1,
   "id": "38fe4b6a-b7aa-4c84-acc2-673a04e793a1",
   "metadata": {
    "tags": []
   },
   "outputs": [
    {
     "name": "stderr",
     "output_type": "stream",
     "text": [
      "2024-06-26 13:40:22.508462: I tensorflow/core/platform/cpu_feature_guard.cc:210] This TensorFlow binary is optimized to use available CPU instructions in performance-critical operations.\n",
      "To enable the following instructions: AVX2 FMA, in other operations, rebuild TensorFlow with the appropriate compiler flags.\n"
     ]
    }
   ],
   "source": [
    "import pandas as pd\n",
    "import os\n",
    "import librosa\n",
    "import librosa.display\n",
    "import matplotlib.pyplot as plt\n",
    "from sklearn.model_selection import train_test_split\n",
    "from sklearn.preprocessing import normalize\n",
    "import warnings\n",
    "warnings.filterwarnings('ignore')\n",
    "from sklearn.model_selection import train_test_split\n",
    "import tensorflow as tf\n",
    "from tensorflow.keras.layers import LSTM, Dense"
   ]
  },
  {
   "cell_type": "code",
   "execution_count": 5,
   "id": "ac0c3176",
   "metadata": {},
   "outputs": [
    {
     "name": "stdout",
     "output_type": "stream",
     "text": [
      "['/Users/rish/Desktop/data/01', '/Users/rish/Desktop/data/02', '/Users/rish/Desktop/data/03', '/Users/rish/Desktop/data/04', '/Users/rish/Desktop/data/05', '/Users/rish/Desktop/data/06', '/Users/rish/Desktop/data/07', '/Users/rish/Desktop/data/08', '/Users/rish/Desktop/data/09', '/Users/rish/Desktop/data/10', '/Users/rish/Desktop/data/11', '/Users/rish/Desktop/data/12', '/Users/rish/Desktop/data/13', '/Users/rish/Desktop/data/14', '/Users/rish/Desktop/data/15', '/Users/rish/Desktop/data/16', '/Users/rish/Desktop/data/17', '/Users/rish/Desktop/data/18', '/Users/rish/Desktop/data/19', '/Users/rish/Desktop/data/20', '/Users/rish/Desktop/data/21', '/Users/rish/Desktop/data/22', '/Users/rish/Desktop/data/23', '/Users/rish/Desktop/data/24', '/Users/rish/Desktop/data/25', '/Users/rish/Desktop/data/26', '/Users/rish/Desktop/data/27', '/Users/rish/Desktop/data/28', '/Users/rish/Desktop/data/29', '/Users/rish/Desktop/data/30', '/Users/rish/Desktop/data/31', '/Users/rish/Desktop/data/32', '/Users/rish/Desktop/data/33', '/Users/rish/Desktop/data/34', '/Users/rish/Desktop/data/35', '/Users/rish/Desktop/data/36', '/Users/rish/Desktop/data/37', '/Users/rish/Desktop/data/38', '/Users/rish/Desktop/data/39', '/Users/rish/Desktop/data/40', '/Users/rish/Desktop/data/41', '/Users/rish/Desktop/data/42', '/Users/rish/Desktop/data/43', '/Users/rish/Desktop/data/44', '/Users/rish/Desktop/data/45', '/Users/rish/Desktop/data/46', '/Users/rish/Desktop/data/47', '/Users/rish/Desktop/data/48', '/Users/rish/Desktop/data/49', '/Users/rish/Desktop/data/50', '/Users/rish/Desktop/data/51', '/Users/rish/Desktop/data/52', '/Users/rish/Desktop/data/53', '/Users/rish/Desktop/data/54', '/Users/rish/Desktop/data/55', '/Users/rish/Desktop/data/56', '/Users/rish/Desktop/data/57', '/Users/rish/Desktop/data/58', '/Users/rish/Desktop/data/59', '/Users/rish/Desktop/data/60']\n"
     ]
    }
   ],
   "source": [
    "root = \"/Users/rish/Desktop/data\"\n",
    "n = 60 # the different number of speakers\n",
    "folders = [os.path.join(root, str(i).zfill(2)) for i in range(1, n+1)]\n",
    "print(folders)"
   ]
  },
  {
   "cell_type": "code",
   "execution_count": 6,
   "id": "c005afd9",
   "metadata": {},
   "outputs": [
    {
     "name": "stdout",
     "output_type": "stream",
     "text": [
      "['3_01_10.wav', '2_01_4.wav', '3_01_4.wav', '3_01_38.wav', '4_01_48.wav', '0_01_24.wav', '0_01_30.wav', '0_01_18.wav', '7_01_40.wav', '8_01_14.wav', '8_01_28.wav', '5_01_17.wav', '1_01_47.wav', '6_01_23.wav', '9_01_7.wav', '6_01_37.wav', '8_01_7.wav', '8_01_6.wav', '6_01_36.wav', '6_01_22.wav']\n"
     ]
    }
   ],
   "source": [
    "files = []\n",
    "\n",
    "for folder in folders:\n",
    "    files += os.listdir(folder)\n",
    "print(files[:20])"
   ]
  },
  {
   "cell_type": "code",
   "execution_count": 7,
   "id": "fccdf33a",
   "metadata": {},
   "outputs": [
    {
     "name": "stdout",
     "output_type": "stream",
     "text": [
      "30000\n",
      "30000\n",
      "['/Users/rish/Desktop/data/01/3_01_10.wav', '/Users/rish/Desktop/data/01/2_01_4.wav', '/Users/rish/Desktop/data/01/3_01_4.wav', '/Users/rish/Desktop/data/01/3_01_38.wav', '/Users/rish/Desktop/data/01/4_01_48.wav', '/Users/rish/Desktop/data/01/0_01_24.wav', '/Users/rish/Desktop/data/01/0_01_30.wav', '/Users/rish/Desktop/data/01/0_01_18.wav', '/Users/rish/Desktop/data/01/7_01_40.wav', '/Users/rish/Desktop/data/01/8_01_14.wav', '/Users/rish/Desktop/data/01/8_01_28.wav', '/Users/rish/Desktop/data/01/5_01_17.wav', '/Users/rish/Desktop/data/01/1_01_47.wav', '/Users/rish/Desktop/data/01/6_01_23.wav', '/Users/rish/Desktop/data/01/9_01_7.wav', '/Users/rish/Desktop/data/01/6_01_37.wav', '/Users/rish/Desktop/data/01/8_01_7.wav', '/Users/rish/Desktop/data/01/8_01_6.wav', '/Users/rish/Desktop/data/01/6_01_36.wav', '/Users/rish/Desktop/data/01/6_01_22.wav']\n",
      "['3', '2', '3', '3', '4', '0', '0', '0', '7', '8', '8', '5', '1', '6', '9', '6', '8', '8', '6', '6']\n"
     ]
    }
   ],
   "source": [
    "X = []\n",
    "Y = []\n",
    "\n",
    "for file in files:\n",
    "    label = file.split(\"_\")[0]\n",
    "    human = file.split(\"_\")[1]\n",
    "    X.append(os.path.join(root, human, file))\n",
    "    Y.append(label)\n",
    "\n",
    "print(len(X))\n",
    "print(len(Y))\n",
    "print(X[:20])\n",
    "print(Y[:20])"
   ]
  },
  {
   "cell_type": "code",
   "execution_count": null,
   "id": "7163556a",
   "metadata": {},
   "outputs": [],
   "source": []
  }
 ],
 "metadata": {
  "kernelspec": {
   "display_name": "Python 3 (ipykernel)",
   "language": "python",
   "name": "python3"
  },
  "language_info": {
   "codemirror_mode": {
    "name": "ipython",
    "version": 3
   },
   "file_extension": ".py",
   "mimetype": "text/x-python",
   "name": "python",
   "nbconvert_exporter": "python",
   "pygments_lexer": "ipython3",
   "version": "3.12.3"
  }
 },
 "nbformat": 4,
 "nbformat_minor": 5
}
